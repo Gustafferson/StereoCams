{
 "cells": [
  {
   "cell_type": "code",
   "execution_count": 53,
   "metadata": {},
   "outputs": [
    {
     "name": "stderr",
     "output_type": "stream",
     "text": [
      "Locating checkerboard coordinates in calibration_frame_11.png: 100%|██████████| 12/12 [00:00<00:00, 69.10it/s]\n"
     ]
    }
   ],
   "source": [
    "import cv2   #include opencv library functions in python\n",
    "import numpy as np\n",
    "from pathlib import Path\n",
    "from tqdm import tqdm\n",
    "\n",
    "criteria = (cv2.TERM_CRITERIA_EPS + cv2.TERM_CRITERIA_MAX_ITER, 30, 0.001)\n",
    "checkerboard_size=(8,6)\n",
    "show_example=False\n",
    "\n",
    "\n",
    "pathName = Path('D:\\StereoCams\\Test\\Calibration\\Left')\n",
    "globbed = pathName.glob('*.png')\n",
    "imageList = [x for x in globbed if x.is_file()]\n",
    "\n",
    "coordinates = np.zeros((len(imageList),np.prod(checkerboard_size),1,2),dtype=np.float32)\n",
    "# coordinates=[]\n",
    "objpoints = np.zeros((len(imageList),np.prod(checkerboard_size),3),dtype=np.float32) # 3d point in real world space\n",
    "\n",
    "pbar = tqdm(     (file for file in imageList)  ,total=len(imageList)   )\n",
    "for i, fname in enumerate(pbar):\n",
    "    pbar.set_description(\"Locating checkerboard coordinates in {}\".format(fname.name)) \n",
    "\n",
    "    img = cv2.imread(str(fname),0)\n",
    "    ret, corners = cv2.findChessboardCorners(img,checkerboard_size, flags=cv2.CALIB_CB_ADAPTIVE_THRESH)\n",
    "\n",
    "    if ret:\n",
    "        corners2=cv2.cornerSubPix(img,corners, (11,11), (-1,-1), criteria)\n",
    "        coordinates[i,:,:,:]=corners2[:,:,:]\n",
    "        objpoints[i,:,:]=objp\n",
    "        # objpoints.append(objp)\n",
    "    else:\n",
    "        print('No checkerboard found in {}, exiting...'.format(fname.name))\n",
    "        exit()\n",
    "    \n",
    "frameDims = img.shape\n",
    "if show_example==True:\n",
    "    cv2.drawChessboardCorners(img, (9, 6),corners2, ret)\n",
    "    cv2.imshow('img', img)"
   ]
  },
  {
   "cell_type": "code",
   "execution_count": 6,
   "metadata": {},
   "outputs": [],
   "source": [
    "import numpy as np\n",
    "\n",
    "# prepare object points, like (0,0,0), (1,0,0), (2,0,0) ....,(6,5,0)\n",
    "objp = np.zeros((8*6,3), np.float32)\n",
    "objp[:,:2] = np.mgrid[0:6,0:8].T.reshape(-1,2)"
   ]
  },
  {
   "cell_type": "code",
   "execution_count": 55,
   "metadata": {},
   "outputs": [],
   "source": [
    "ret, mtx, dist, rvecs, tvecs=cv2.calibrateCamera(objpoints,coordinates,frameDims,None,None)"
   ]
  },
  {
   "cell_type": "code",
   "execution_count": 23,
   "metadata": {},
   "outputs": [],
   "source": [
    "import numpy as np\n",
    "import cv2\n",
    "from pathlib import Path\n",
    "# termination criteria\n",
    "criteria = (cv2.TERM_CRITERIA_EPS + cv2.TERM_CRITERIA_MAX_ITER, 30, 0.001)\n",
    "# prepare object points, like (0,0,0), (1,0,0), (2,0,0) ....,(6,5,0)\n",
    "objp = np.zeros((6*8,3), np.float32)\n",
    "objp[:,:2] = np.mgrid[0:8,0:6].T.reshape(-1,2)\n",
    "# Arrays to store object points and image points from all the images.\n",
    "objpoints = [] # 3d point in real world space\n",
    "imgpoints = [] # 2d points in image plane.\n",
    "pathName = Path('D:\\StereoCams\\Test\\Calibration\\Left')\n",
    "globbed = pathName.glob('*.png')\n",
    "for fname in globbed:\n",
    "    img = cv2.imread(str(fname))\n",
    "    gray = cv2.cvtColor(img, cv2.COLOR_BGR2GRAY)\n",
    "    # Find the chess board corners\n",
    "    ret, corners = cv2.findChessboardCorners(gray, (8,6), None)\n",
    "    # If found, add object points, image points (after refining them)\n",
    "    if ret == True:\n",
    "        objpoints.append(objp)\n",
    "        corners2=cv2.cornerSubPix(gray,corners, (11,11), (-1,-1), criteria)\n",
    "        imgpoints.append(corners)\n",
    "        # Draw and display the corners\n",
    "        cv2.drawChessboardCorners(img, (7,6), corners2, ret)\n",
    "        cv2.imshow('img', img)\n",
    "        cv2.waitKey(500)\n",
    "cv2.destroyAllWindows()"
   ]
  },
  {
   "cell_type": "code",
   "execution_count": 56,
   "metadata": {},
   "outputs": [
    {
     "name": "stdout",
     "output_type": "stream",
     "text": [
      "(3, 1) (48, 1, 2)\n"
     ]
    }
   ],
   "source": [
    "# temp = list(coordinates)\n",
    "print(tvecs[0].shape,temp[0].shape)"
   ]
  },
  {
   "cell_type": "code",
   "execution_count": 50,
   "metadata": {},
   "outputs": [
    {
     "ename": "TypeError",
     "evalue": "only integer scalar arrays can be converted to a scalar index",
     "output_type": "error",
     "traceback": [
      "\u001b[1;31m---------------------------------------------------------------------------\u001b[0m",
      "\u001b[1;31mTypeError\u001b[0m                                 Traceback (most recent call last)",
      "\u001b[1;32m~\\AppData\\Local\\Temp/ipykernel_78596/1335307395.py\u001b[0m in \u001b[0;36m<module>\u001b[1;34m\u001b[0m\n\u001b[1;32m----> 1\u001b[1;33m \u001b[0mcoordinates\u001b[0m\u001b[1;33m=\u001b[0m\u001b[0mnp\u001b[0m\u001b[1;33m.\u001b[0m\u001b[0mndarray\u001b[0m\u001b[1;33m(\u001b[0m\u001b[0mcoordinates\u001b[0m\u001b[1;33m)\u001b[0m\u001b[1;33m\u001b[0m\u001b[1;33m\u001b[0m\u001b[0m\n\u001b[0m",
      "\u001b[1;31mTypeError\u001b[0m: only integer scalar arrays can be converted to a scalar index"
     ]
    }
   ],
   "source": [
    "coordinates=np.ndarray(coordinates)"
   ]
  },
  {
   "cell_type": "code",
   "execution_count": 34,
   "metadata": {},
   "outputs": [],
   "source": [
    "np.save('points.npy',imgpoints,allow_pickle=True)"
   ]
  },
  {
   "cell_type": "code",
   "execution_count": 37,
   "metadata": {},
   "outputs": [],
   "source": [
    "temp = np.load('points.npy',allow_pickle=True)"
   ]
  }
 ],
 "metadata": {
  "interpreter": {
   "hash": "63fd5069d213b44bf678585dea6b12cceca9941eaf7f819626cde1f2670de90d"
  },
  "kernelspec": {
   "display_name": "Python 3.9.6 64-bit",
   "language": "python",
   "name": "python3"
  },
  "language_info": {
   "codemirror_mode": {
    "name": "ipython",
    "version": 3
   },
   "file_extension": ".py",
   "mimetype": "text/x-python",
   "name": "python",
   "nbconvert_exporter": "python",
   "pygments_lexer": "ipython3",
   "version": "3.9.6"
  },
  "orig_nbformat": 4
 },
 "nbformat": 4,
 "nbformat_minor": 2
}
